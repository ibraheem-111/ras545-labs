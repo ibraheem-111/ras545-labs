{
 "cells": [
  {
   "cell_type": "code",
   "execution_count": 1,
   "id": "db7bccc4",
   "metadata": {},
   "outputs": [],
   "source": [
    "import sys\n",
    "import time\n",
    "from typing import Optional, Tuple\n",
    "\n",
    "import cv2\n",
    "from ultralytics import YOLO\n",
    "\n",
    "from pydobot.dobot import MODE_PTP\n",
    "import pydobot\n",
    "from pydantic import BaseModel"
   ]
  },
  {
   "cell_type": "code",
   "execution_count": 2,
   "id": "648d339a",
   "metadata": {},
   "outputs": [],
   "source": [
    "\n",
    "# Robot poses - UPDATE THESE COORDINATES FOR YOUR SETUP\n",
    "HOME: Tuple[float, float, float, float] = (233.1162, -1.3118, 150.7647, -0.3224)\n",
    "\n",
    "# Fixed position where cardboard pieces with object pictures are stacked\n",
    "CARDBOARD_STACK: Tuple[float, float, float, float] = (297.28350830078125, 51.12328338623047, -45.1676025390625, 9.757606506347656)\n",
    "\n",
    "# Two pallets for different object categories\n",
    "PALLET_A: Tuple[float, float, float, float] = (254.5684814453125, -46.615028381347656, -21.938823699951172, -10.376693725585938)  # Food items\n",
    "PALLET_B: Tuple[float, float, float, float] = (352, -46.615028381347656, -21.938823699951172, -10.376693725585938)  # Vehicle items\n",
    "\n",
    "# Z heights for suction\n",
    "SAFE_Z: float = -20.0  # Safe height above objects\n",
    "Z_SUCK_START: float = -46  # Starting suction height\n",
    "Z_SUCK_INCREMENT: float = -2.0  # How much to lower each attempt\n",
    "MAX_Z_SUCK: float = -55.0  # Maximum depth to try\n",
    "\n",
    "\n",
    "FOOD_LABELS = {\n",
    "    \"banana\",\n",
    "    \"apple\",\n",
    "    \"pizza\",\n",
    "}\n",
    "\n",
    "VEHICLE_LABELS = {\n",
    "    \"bicycle\",\n",
    "    \"car\",\n",
    "    \"airplane\",\n",
    "}\n"
   ]
  },
  {
   "cell_type": "code",
   "execution_count": 2,
   "id": "8b8ea417",
   "metadata": {},
   "outputs": [],
   "source": [
    "\n",
    "def connect_robot(serial_port: str) -> pydobot.Dobot:\n",
    "    device = pydobot.Dobot(port=serial_port)\n",
    "    device.speed(1000, 1000)\n",
    "    return device\n",
    "\n",
    "\n",
    "def move_linear(device: pydobot.Dobot, x: float, y: float, z: float, r: float, wait: bool = True) -> None:\n",
    "    device.move_to(mode=int(MODE_PTP.MOVJ_XYZ), x=x, y=y, z=z, r=r)\n",
    "\n",
    "\n",
    "def home(device: pydobot.Dobot) -> None:\n",
    "    device.home()"
   ]
  },
  {
   "cell_type": "code",
   "execution_count": 5,
   "id": "f351ae7b",
   "metadata": {},
   "outputs": [
    {
     "name": "stderr",
     "output_type": "stream",
     "text": [
      "Clearing alarms: 0.\n"
     ]
    }
   ],
   "source": [
    "device = connect_robot(\"/dev/ttyACM0\")"
   ]
  },
  {
   "cell_type": "code",
   "execution_count": 10,
   "id": "ce62164d",
   "metadata": {},
   "outputs": [
    {
     "data": {
      "text/plain": [
       "Pose(position=Position(x=178.2554931640625, y=45.18132019042969, z=60.5149040222168, r=14.222879409790039), joints=Joints(j1=14.222879409790039, j2=-10.74116325378418, j3=36.01646423339844, j4=0.0))"
      ]
     },
     "execution_count": 10,
     "metadata": {},
     "output_type": "execute_result"
    }
   ],
   "source": [
    "device.get_pose()"
   ]
  },
  {
   "cell_type": "markdown",
   "id": "a3505d59",
   "metadata": {},
   "source": [
    "# Util Functions"
   ]
  },
  {
   "cell_type": "code",
   "execution_count": 6,
   "id": "889985a2",
   "metadata": {},
   "outputs": [],
   "source": [
    "def detect_object_category(model: YOLO, frame) -> Optional[str]:\n",
    "    \"\"\"\n",
    "    Run YOLO and return the category (A or B) of the detection closest to image center.\n",
    "    Returns None if no valid detections.\n",
    "    \"\"\"\n",
    "    results = model(frame, verbose=False)\n",
    "    r = results[0]\n",
    "    if r.boxes is None or len(r.boxes) == 0:\n",
    "        return None\n",
    "\n",
    "    xyxy = r.boxes.xyxy.cpu().numpy()\n",
    "    conf = r.boxes.conf.cpu().numpy()\n",
    "    cls = r.boxes.cls.cpu().numpy().astype(int)\n",
    "    names = r.names\n",
    "\n",
    "    h, w = frame.shape[:2]\n",
    "    cx_img, cy_img = w / 2.0, h / 2.0\n",
    "\n",
    "    best_idx = -1\n",
    "    best_dist = 1e9\n",
    "    for i, ((x1, y1, x2, y2), c, k) in enumerate(zip(xyxy, conf, cls)):\n",
    "        mx = (x1 + x2) / 2.0\n",
    "        my = (y1 + y2) / 2.0\n",
    "        dist = (mx - cx_img) ** 2 + (my - cy_img) ** 2\n",
    "        if dist < best_dist or (dist == best_dist and c > conf[best_idx]):\n",
    "            best_dist = dist\n",
    "            best_idx = i\n",
    "\n",
    "    if best_idx == -1:\n",
    "        return None\n",
    "\n",
    "    label_idx = cls[best_idx]\n",
    "    label_name = names[label_idx].lower()\n",
    "    \n",
    "    if label_name in FOOD_LABELS:\n",
    "        return \"A\"\n",
    "    elif label_name in VEHICLE_LABELS:\n",
    "        return \"B\"\n",
    "    else:\n",
    "        return None\n",
    "\n",
    "\n",
    "def pick_from_stack(device: pydobot.Dobot) -> bool:\n",
    "    \"\"\"\n",
    "    Pick up an object from the cardboard stack with incremental Z lowering.\n",
    "    Returns True if successful, False if failed after all attempts.\n",
    "    \"\"\"\n",
    "    x, y, _, r = CARDBOARD_STACK\n",
    "    \n",
    "    # Move to safe height above stack\n",
    "    move_linear(device, x, y, SAFE_Z, r, wait=True)\n",
    "    \n",
    "    # Try suction at different Z heights\n",
    "    current_z = Z_SUCK_START\n",
    "    while current_z >= MAX_Z_SUCK:\n",
    "        print(f\"Trying suction at Z = {current_z}\")\n",
    "        \n",
    "        # Move to current Z height\n",
    "        move_linear(device, x, y, current_z, r, wait=True)\n",
    "        \n",
    "        # Activate suction\n",
    "        device.suck(True)\n",
    "        time.sleep(0.5)  # Give suction time to engage\n",
    "        \n",
    "        # Try to lift - if successful, we got something\n",
    "        move_linear(device, x, y, SAFE_Z, r, wait=True)\n",
    "        \n",
    "        # Check if we actually picked something up by trying to move slightly\n",
    "        # If the object is heavy enough, it will resist movement\n",
    "        original_pose, _ = device.get_pose()\n",
    "        move_linear(device, x + 5, y, SAFE_Z, r, wait=True)\n",
    "        new_pose, _ = device.get_pose()\n",
    "        \n",
    "        # If we moved successfully, we probably picked something up\n",
    "        if abs(new_pose[0] - (x + 5)) < 2.0:  # We moved as expected\n",
    "            print(f\"Successfully picked up object at Z = {current_z}\")\n",
    "            return True\n",
    "        else:\n",
    "            # Release suction and try lower\n",
    "            device.suck(False)\n",
    "            current_z += Z_SUCK_INCREMENT\n",
    "            time.sleep(0.2)\n",
    "    \n",
    "    print(\"Failed to pick up object after all attempts\")\n",
    "    device.suck(False)\n",
    "    return False\n",
    "\n",
    "\n",
    "def place_in_pallet(device: pydobot.Dobot, category: str) -> None:\n",
    "    \"\"\"Place the picked object in the appropriate pallet\"\"\"\n",
    "    if category == \"A\":\n",
    "        target = PALLET_A\n",
    "        pallet_name = \"A (Food)\"\n",
    "    else:\n",
    "        target = PALLET_B\n",
    "        pallet_name = \"B (Vehicle)\"\n",
    "    \n",
    "    tx, ty, tz, tr = target\n",
    "    print(f\"Placing object in pallet {pallet_name}\")\n",
    "    \n",
    "    # Move to pallet location\n",
    "    move_linear(device, tx, ty, SAFE_Z, tr, wait=True)\n",
    "    move_linear(device, tx, ty, tz, tr, wait=True)\n",
    "    \n",
    "    # Release suction\n",
    "    device.suck(False)\n",
    "    time.sleep(0.5)\n",
    "    \n",
    "    # Lift up\n",
    "    move_linear(device, tx, ty, SAFE_Z, tr, wait=True)"
   ]
  },
  {
   "cell_type": "markdown",
   "id": "3f81c862",
   "metadata": {},
   "source": [
    "# Run Code"
   ]
  },
  {
   "cell_type": "code",
   "execution_count": 7,
   "id": "c8a9194b",
   "metadata": {},
   "outputs": [],
   "source": [
    "class Args(BaseModel):\n",
    "    camera_index: int\n",
    "    model: str\n",
    "    port: str\n",
    "    loop: int\n",
    "    show: bool\n",
    "\n",
    "def run(args: Args) -> None:\n",
    "    # Initialize camera\n",
    "    cap = cv2.VideoCapture(args.camera_index)\n",
    "    if not cap.isOpened():\n",
    "        raise RuntimeError(\"Cannot open camera. Check --camera-index and permissions.\")\n",
    "\n",
    "    cap.set(cv2.CAP_PROP_FRAME_WIDTH, 640)\n",
    "    cap.set(cv2.CAP_PROP_FRAME_HEIGHT, 480)\n",
    "\n",
    "    # Load model\n",
    "    model = YOLO(args.model)\n",
    "\n",
    "    # Connect robot\n",
    "    device = connect_robot(args.port)\n",
    "    home(device)\n",
    "\n",
    "    prev_t = time.time()\n",
    "    cycles_run = 0\n",
    "    win_name = \"Palletizing View\"\n",
    "\n",
    "    try:\n",
    "        while True:\n",
    "            ret, frame = cap.read()\n",
    "            if not ret:\n",
    "                print(\"Can't receive frame. Exiting...\")\n",
    "                break\n",
    "\n",
    "            # Detect object category\n",
    "            category = detect_object_category(model, frame)\n",
    "\n",
    "            if args.show:\n",
    "                # Show overlay information\n",
    "                now = time.time()\n",
    "                fps = 1.0 / max(1e-6, (now - prev_t))\n",
    "                prev_t = now\n",
    "                h, w = frame.shape[:2]\n",
    "                cv2.circle(frame, (w // 2, h // 2), 8, (0, 255, 255), 2)\n",
    "                \n",
    "                category_text = f\"Category: {category or 'None'}\"\n",
    "                cv2.putText(frame, category_text, (10, 25), cv2.FONT_HERSHEY_SIMPLEX, 0.7, (255, 255, 255), 2)\n",
    "                cv2.putText(frame, f\"FPS: {fps:.1f}\", (10, 55), cv2.FONT_HERSHEY_SIMPLEX, 0.6, (255, 255, 255), 2)\n",
    "                cv2.imshow(win_name, frame)\n",
    "\n",
    "            # If a valid category is detected, perform pick-and-place\n",
    "            if category is not None:\n",
    "                print(f\"Detected category {category} -> executing pick/place\")\n",
    "                \n",
    "                # Pick from stack\n",
    "                if pick_from_stack(device):\n",
    "                    # Place in appropriate pallet\n",
    "                    place_in_pallet(device, category)\n",
    "                    home(device)\n",
    "                    cycles_run += 1\n",
    "                    print(f\"Completed cycle {cycles_run}\")\n",
    "                else:\n",
    "                    print(\"Failed to pick up object, skipping this cycle\")\n",
    "                    home(device)\n",
    "\n",
    "                if args.loop > 0 and cycles_run >= args.loop:\n",
    "                    print(\"Completed requested number of cycles. Exiting.\")\n",
    "                    break\n",
    "\n",
    "            # UI + quit handling\n",
    "            if args.show:\n",
    "                if cv2.waitKey(1) & 0xFF == ord('q'):\n",
    "                    break\n",
    "            else:\n",
    "                # Without UI, modest sleep to avoid busy-looping the camera\n",
    "                time.sleep(0.02)\n",
    "    finally:\n",
    "        # Cleanup\n",
    "        try:\n",
    "            cap.release()\n",
    "        except Exception:\n",
    "            pass\n",
    "        try:\n",
    "            cv2.destroyAllWindows()\n",
    "        except Exception:\n",
    "            pass\n",
    "        try:\n",
    "            # Release suction and go home for safety\n",
    "            device.suck(False)\n",
    "            home(device)\n",
    "            device.close()\n",
    "        except Exception:\n",
    "            pass\n"
   ]
  },
  {
   "cell_type": "markdown",
   "id": "632017d3",
   "metadata": {},
   "source": [
    "# RUN"
   ]
  },
  {
   "cell_type": "code",
   "execution_count": 8,
   "id": "e40bfcf7",
   "metadata": {},
   "outputs": [],
   "source": [
    "input_args = Args(camera_index=2, model=\"yolov8n.pt\", port=\"/dev/ttyACM1\", loop=0, show=True)"
   ]
  },
  {
   "cell_type": "code",
   "execution_count": 9,
   "id": "09db32b6",
   "metadata": {},
   "outputs": [
    {
     "name": "stderr",
     "output_type": "stream",
     "text": [
      "[ WARN:0@1.211] global cap_v4l.cpp:913 open VIDEOIO(V4L2:/dev/video2): can't open camera by index\n",
      "Traceback (most recent call last):\n",
      "[ERROR:0@1.434] global obsensor_uvc_stream_channel.cpp:158 getStreamChannelGroup Camera index out of range\n",
      "  File \"/tmp/ipykernel_43659/1949895717.py\", line 3, in <module>\n",
      "    run(input_args)\n",
      "    ~~~^^^^^^^^^^^^\n",
      "  File \"/tmp/ipykernel_43659/1066124544.py\", line 12, in run\n",
      "    raise RuntimeError(\"Cannot open camera. Check --camera-index and permissions.\")\n",
      "RuntimeError: Cannot open camera. Check --camera-index and permissions.\n"
     ]
    },
    {
     "ename": "SystemExit",
     "evalue": "1",
     "output_type": "error",
     "traceback": [
      "An exception has occurred, use %tb to see the full traceback.\n",
      "\u001b[31mSystemExit\u001b[39m\u001b[31m:\u001b[39m 1\n"
     ]
    },
    {
     "name": "stderr",
     "output_type": "stream",
     "text": [
      "/home/ibraheem/ras545/.venv/lib/python3.13/site-packages/IPython/core/interactiveshell.py:3707: UserWarning: To exit: use 'exit', 'quit', or Ctrl-D.\n",
      "  warn(\"To exit: use 'exit', 'quit', or Ctrl-D.\", stacklevel=1)\n"
     ]
    }
   ],
   "source": [
    "import traceback\n",
    "try:\n",
    "    run(input_args)\n",
    "except KeyboardInterrupt:\n",
    "    print(\"Interrupted by user.\")\n",
    "    sys.exit(0)\n",
    "except Exception as exc:\n",
    "    traceback.print_exc()\n",
    "    sys.exit(1)"
   ]
  },
  {
   "cell_type": "code",
   "execution_count": null,
   "id": "861a2d20",
   "metadata": {},
   "outputs": [],
   "source": [
    "import numpy as np\n",
    "\n",
    "np.matrix([[1, 1,1 ], [1, 2,3]])"
   ]
  }
 ],
 "metadata": {
  "kernelspec": {
   "display_name": ".venv",
   "language": "python",
   "name": "python3"
  },
  "language_info": {
   "codemirror_mode": {
    "name": "ipython",
    "version": 3
   },
   "file_extension": ".py",
   "mimetype": "text/x-python",
   "name": "python",
   "nbconvert_exporter": "python",
   "pygments_lexer": "ipython3",
   "version": "3.13.7"
  }
 },
 "nbformat": 4,
 "nbformat_minor": 5
}
