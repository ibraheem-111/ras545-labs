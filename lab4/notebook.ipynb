{
 "cells": [
  {
   "cell_type": "code",
   "execution_count": 9,
   "id": "1c7f06a3",
   "metadata": {},
   "outputs": [],
   "source": [
    "from kinematics import forward_kinematics_sympy, inverse_kinematics_simple, print_symbolic_equations, inverse_kinematics_numerical\n",
    "import pydobot\n",
    "from pydobot.dobot import MODE_PTP\n",
    "import time\n",
    "device = pydobot.Dobot(port=\"/dev/ttyACM0\")\n"
   ]
  },
  {
   "cell_type": "code",
   "execution_count": 10,
   "id": "8300b2db",
   "metadata": {},
   "outputs": [
    {
     "name": "stdout",
     "output_type": "stream",
     "text": [
      "\n",
      "T01 (Base to Joint 1):\n",
      "Matrix([[cos(theta1), 0, -sin(theta1), 0], [sin(theta1), 0, cos(theta1), 0], [0, -1, 0, 53.5000000000000], [0, 0, 0, 1]])\n",
      "\n",
      "T12 (Joint 1 to Joint 2):\n",
      "Matrix([[-sin(theta2), -cos(theta2), 0, 150*sin(theta2) + 90], [cos(theta2), -sin(theta2), 0, -150*cos(theta2)], [0, 0, 1, 0], [0, 0, 0, 1]])\n",
      "\n",
      "T23 (Joint 2 to Joint 3):\n",
      "Matrix([[sin(theta2 - theta3), -cos(theta2 - theta3), 0, -150*sin(theta2 - theta3)], [cos(theta2 - theta3), sin(theta2 - theta3), 0, -150*cos(theta2 - theta3)], [0, 0, 1, 0], [0, 0, 0, 1]])\n",
      "\n",
      "==================================================\n",
      "FORWARD KINEMATICS EQUATIONS\n",
      "==================================================\n",
      "\n",
      "T03 = T01 * T12 * T23:\n",
      "T03 (before simplification):\n",
      "Matrix([[-sin(theta2)*sin(theta2 - theta3)*cos(theta1) - cos(theta1)*cos(theta2)*cos(theta2 - theta3), sin(theta2)*cos(theta1)*cos(theta2 - theta3) - sin(theta2 - theta3)*cos(theta1)*cos(theta2), -sin(theta1), (150*sin(theta2) + 90)*cos(theta1) + 150*sin(theta2)*sin(theta2 - theta3)*cos(theta1) + 150*cos(theta1)*cos(theta2)*cos(theta2 - theta3)], [-sin(theta1)*sin(theta2)*sin(theta2 - theta3) - sin(theta1)*cos(theta2)*cos(theta2 - theta3), sin(theta1)*sin(theta2)*cos(theta2 - theta3) - sin(theta1)*sin(theta2 - theta3)*cos(theta2), cos(theta1), (150*sin(theta2) + 90)*sin(theta1) + 150*sin(theta1)*sin(theta2)*sin(theta2 - theta3) + 150*sin(theta1)*cos(theta2)*cos(theta2 - theta3)], [sin(theta2)*cos(theta2 - theta3) - sin(theta2 - theta3)*cos(theta2), sin(theta2)*sin(theta2 - theta3) + cos(theta2)*cos(theta2 - theta3), 0, -150*sin(theta2)*cos(theta2 - theta3) + 150*sin(theta2 - theta3)*cos(theta2) + 150*cos(theta2) + 53.5], [0, 0, 0, 1]])\n",
      "\n",
      "T03 (after simplification):\n",
      "Matrix([[-cos(theta1)*cos(theta3), sin(theta3)*cos(theta1), -sin(theta1), 30*(5*sin(theta2) + 5*cos(theta3) + 3)*cos(theta1)], [-sin(theta1)*cos(theta3), sin(theta1)*sin(theta3), cos(theta1), 30*(5*sin(theta2) + 5*cos(theta3) + 3)*sin(theta1)], [sin(theta3), cos(theta3), 0, -150.0*sin(theta3) + 150.0*cos(theta2) + 53.5], [0, 0, 0, 1]])\n",
      "\n",
      "==================================================\n",
      "POSITION EQUATIONS\n",
      "==================================================\n",
      "\n",
      "End-effector position:\n",
      "P_x = 30*(5*sin(theta2) + 5*cos(theta3) + 3)*cos(theta1)\n",
      "P_y = 30*(5*sin(theta2) + 5*cos(theta3) + 3)*sin(theta1)\n",
      "P_z = -150.0*sin(theta3) + 150.0*cos(theta2) + 53.5\n",
      "\n",
      "Orientation matrix:\n",
      "Matrix([[-cos(theta1)*cos(theta3), sin(theta3)*cos(theta1), -sin(theta1)], [-sin(theta1)*cos(theta3), sin(theta1)*sin(theta3), cos(theta1)], [sin(theta3), cos(theta3), 0]])\n",
      "\n",
      "==================================================\n",
      "SUMMARY\n",
      "==================================================\n",
      "\n",
      "Forward kinematics equations:\n",
      "P_x = 30*(5*sin(theta2) + 5*cos(theta3) + 3)*cos(theta1)\n",
      "P_y = 30*(5*sin(theta2) + 5*cos(theta3) + 3)*sin(theta1)\n",
      "P_z = -150.0*sin(theta3) + 150.0*cos(theta2) + 53.5\n",
      "\n",
      "Adjusted end-effector position (with offset [0, 0, -58.5]):\n",
      "P_adj_x = 30*(5*sin(theta2) + 5*cos(theta3) + 3)*cos(theta1)\n",
      "P_adj_y = 30*(5*sin(theta2) + 5*cos(theta3) + 3)*sin(theta1)\n",
      "P_adj_z = -150.0*sin(theta3) + 150.0*cos(theta2)\n"
     ]
    },
    {
     "data": {
      "text/plain": [
       "{'T03': Matrix([\n",
       " [-cos(theta1)*cos(theta3), sin(theta3)*cos(theta1), -sin(theta1), 30*(5*sin(theta2) + 5*cos(theta3) + 3)*cos(theta1)],\n",
       " [-sin(theta1)*cos(theta3), sin(theta1)*sin(theta3),  cos(theta1), 30*(5*sin(theta2) + 5*cos(theta3) + 3)*sin(theta1)],\n",
       " [             sin(theta3),             cos(theta3),            0,      -150.0*sin(theta3) + 150.0*cos(theta2) + 53.5],\n",
       " [                       0,                       0,            0,                                                  1]]),\n",
       " 'position': Matrix([\n",
       " [30*(5*sin(theta2) + 5*cos(theta3) + 3)*cos(theta1)],\n",
       " [30*(5*sin(theta2) + 5*cos(theta3) + 3)*sin(theta1)],\n",
       " [     -150.0*sin(theta3) + 150.0*cos(theta2) + 53.5]]),\n",
       " 'adjusted_position': Matrix([\n",
       " [30*(5*sin(theta2) + 5*cos(theta3) + 3)*cos(theta1)],\n",
       " [30*(5*sin(theta2) + 5*cos(theta3) + 3)*sin(theta1)],\n",
       " [            -150.0*sin(theta3) + 150.0*cos(theta2)]]),\n",
       " 'orientation': Matrix([\n",
       " [-cos(theta1)*cos(theta3), sin(theta3)*cos(theta1), -sin(theta1)],\n",
       " [-sin(theta1)*cos(theta3), sin(theta1)*sin(theta3),  cos(theta1)],\n",
       " [             sin(theta3),             cos(theta3),            0]])}"
      ]
     },
     "execution_count": 10,
     "metadata": {},
     "output_type": "execute_result"
    }
   ],
   "source": [
    "print_symbolic_equations()"
   ]
  },
  {
   "cell_type": "code",
   "execution_count": 11,
   "id": "561bc9a7",
   "metadata": {},
   "outputs": [
    {
     "data": {
      "text/plain": [
       "3813"
      ]
     },
     "execution_count": 11,
     "metadata": {},
     "output_type": "execute_result"
    }
   ],
   "source": [
    "device.home()"
   ]
  },
  {
   "cell_type": "code",
   "execution_count": 12,
   "id": "11d7e9b2",
   "metadata": {},
   "outputs": [
    {
     "name": "stdout",
     "output_type": "stream",
     "text": [
      "Matrix([[240], [0], [150.000000000000]])\n"
     ]
    }
   ],
   "source": [
    "transform = forward_kinematics_sympy(0,0,0)\n",
    "print(transform[\"adjusted_position\"])\n"
   ]
  },
  {
   "cell_type": "code",
   "execution_count": 13,
   "id": "683fad74",
   "metadata": {},
   "outputs": [
    {
     "name": "stdout",
     "output_type": "stream",
     "text": [
      "Matrix([[0], [271.206832066516], [65.9538931178863]])\n"
     ]
    }
   ],
   "source": [
    "transform = forward_kinematics_sympy(90, 20, 30)\n",
    "print(transform[\"adjusted_position\"].evalf())"
   ]
  },
  {
   "cell_type": "markdown",
   "id": "1114e452",
   "metadata": {},
   "source": [
    "# Calculate forward kinematics for following theta values:\n",
    "- Theta(1 to 4) = [-2, 25, 23, 45]\n",
    "- Theta(1 to 4) = [31,52,42,0]\n",
    "- Theta(1 to 4) = [27,52,24,0]\n"
   ]
  },
  {
   "cell_type": "code",
   "execution_count": 14,
   "id": "e1858fb7",
   "metadata": {},
   "outputs": [
    {
     "name": "stdout",
     "output_type": "stream",
     "text": [
      "XYZ Values Obtained By Forward Kinematics\n",
      "Matrix([[291.290912563919], [-10.1721028126855], [77.3364987821064]])\n",
      "R:  43\n",
      "Actual Position Of Robot After Moving to the Joint Angles\n"
     ]
    },
    {
     "data": {
      "text/plain": [
       "Pose(position=Position(x=292.899658203125, y=-10.22828197479248, z=77.92137145996094, r=43.0), joints=Joints(j1=-2.0, j2=25.0, j3=23.0, j4=45.0))"
      ]
     },
     "execution_count": 14,
     "metadata": {},
     "output_type": "execute_result"
    }
   ],
   "source": [
    "\n",
    "target = (-2, 25, 23, 45)\n",
    "transform = forward_kinematics_sympy(*target)\n",
    "print(\"XYZ Values Obtained By Forward Kinematics\")\n",
    "print(transform[\"adjusted_position\"].evalf())\n",
    "print(\"R: \", transform[\"r\"])\n",
    "\n",
    "device.move_to(*target,mode= MODE_PTP.MOVJ_ANGLE)\n",
    "time.sleep(1)\n",
    "\n",
    "print(\"Actual Position Of Robot After Moving to the Joint Angles\")\n",
    "device.get_pose()\n"
   ]
  },
  {
   "cell_type": "code",
   "execution_count": 15,
   "id": "faf79821",
   "metadata": {},
   "outputs": [
    {
     "name": "stdout",
     "output_type": "stream",
     "text": [
      "XYZ Values Obtained By Forward Kinematics\n",
      "Matrix([[274.013531264967], [164.643940017796], [-8.02036965497999]])\n",
      "R:  31\n",
      "Actual Position Of Robot After Moving to the Joint Angles\n"
     ]
    },
    {
     "data": {
      "text/plain": [
       "Pose(position=Position(x=275.7292175292969, y=165.6748504638672, z=-6.566756725311279, r=31.0), joints=Joints(j1=31.0, j2=52.0, j3=42.0, j4=4.656612873077393e-10))"
      ]
     },
     "execution_count": 15,
     "metadata": {},
     "output_type": "execute_result"
    }
   ],
   "source": [
    "target = (31,52,42,0)\n",
    "transform = forward_kinematics_sympy(*target)\n",
    "print(\"XYZ Values Obtained By Forward Kinematics\")\n",
    "print(transform[\"adjusted_position\"].evalf())\n",
    "print(\"R: \", transform[\"r\"])\n",
    "\n",
    "device.move_to(*target,mode= MODE_PTP.MOVJ_ANGLE)\n",
    "time.sleep(1)\n",
    "\n",
    "print(\"Actual Position Of Robot After Moving to the Joint Angles\")\n",
    "device.get_pose()"
   ]
  },
  {
   "cell_type": "code",
   "execution_count": 17,
   "id": "d281fd22",
   "metadata": {},
   "outputs": [
    {
     "name": "stdout",
     "output_type": "stream",
     "text": [
      "XYZ Values Obtained By Forward Kinematics\n",
      "Matrix([[0], [271.206832066516], [65.9538931178863]])\n",
      "R:  90\n",
      "Actual Position Of Robot After Moving to the Joint Angles\n"
     ]
    },
    {
     "data": {
      "text/plain": [
       "Pose(position=Position(x=8.407870292663574, y=275.15509033203125, z=67.33939361572266, r=88.24976348876953), joints=Joints(j1=88.73975372314453, j2=20.64012908935547, j3=29.879976272583008, j4=4.656612873077393e-10))"
      ]
     },
     "execution_count": 17,
     "metadata": {},
     "output_type": "execute_result"
    }
   ],
   "source": [
    "target = (90, 20, 30, 0)\n",
    "transform = forward_kinematics_sympy(*target)\n",
    "print(\"XYZ Values Obtained By Forward Kinematics\")\n",
    "print(transform[\"adjusted_position\"].evalf())\n",
    "print(\"R: \", transform[\"r\"])\n",
    "\n",
    "device.move_to(*target,mode= MODE_PTP.MOVJ_ANGLE)\n",
    "time.sleep(1)\n",
    "\n",
    "print(\"Actual Position Of Robot After Moving to the Joint Angles\")\n",
    "device.get_pose()"
   ]
  },
  {
   "cell_type": "markdown",
   "id": "988167d6",
   "metadata": {},
   "source": [
    "# Inverse Kinematics"
   ]
  },
  {
   "cell_type": "code",
   "execution_count": 18,
   "id": "2bc114cb",
   "metadata": {},
   "outputs": [
    {
     "data": {
      "text/plain": [
       "3818"
      ]
     },
     "execution_count": 18,
     "metadata": {},
     "output_type": "execute_result"
    }
   ],
   "source": [
    "device.home()"
   ]
  },
  {
   "cell_type": "code",
   "execution_count": 20,
   "id": "374c6c3b",
   "metadata": {},
   "outputs": [
    {
     "name": "stdout",
     "output_type": "stream",
     "text": [
      "target (35, 270, -33)\n",
      "Joint Values Obtained by Inverse Kinematics with guess:  [-45, -45, -45]\n",
      "{'theta1': np.float64(82.6139568489071), 'theta2': np.float64(-209.19313021551542), 'theta3': np.float64(-43.33902565486769), 'error': np.float64(9.36132330638152e-10), 'converged': np.True_}\n",
      "target (35, 270, -33)\n",
      "Joint Values Obtained by Inverse Kinematics with guess:  [0, 0, 0]\n",
      "{'theta1': np.float64(82.6139568418191), 'theta2': np.float64(46.66097428641126), 'theta3': np.float64(60.80686976458755), 'error': np.float64(1.5292006635571654e-07), 'converged': np.True_}\n",
      "target (35, 270, -33)\n",
      "Joint Values Obtained by Inverse Kinematics with guess:  [0, 45, 45]\n",
      "{'theta1': np.float64(82.61395684873872), 'theta2': np.float64(46.66097434497368), 'theta3': np.float64(60.80686978440125), 'error': np.float64(3.5610975698606955e-11), 'converged': np.True_}\n",
      "target (35, 270, -33)\n",
      "Joint Values Obtained by Inverse Kinematics with guess:  [90, 90, 90]\n",
      "{'theta1': np.float64(82.61395684810306), 'theta2': np.float64(46.66097434444852), 'theta3': np.float64(60.806869783153104), 'error': np.float64(4.380559647789973e-09), 'converged': np.True_}\n",
      "Joint Values Obtained by Moving the Robot to the desired Location\n",
      "___________________________________________\n",
      "Joints(j1=82.61396026611328, j2=48.768150329589844, j3=63.480934143066406, j4=-82.61396026611328)\n",
      "target (280, -195, 15)\n",
      "Joint Values Obtained by Inverse Kinematics with guess:  [-45, -45, -45]\n",
      "{'theta1': np.float64(-34.85445556609769), 'theta2': np.float64(52.59025549702476), 'theta3': np.float64(28.305817574810792), 'error': np.float64(2.4239812801662345e-10), 'converged': np.True_}\n",
      "target (280, -195, 15)\n",
      "Joint Values Obtained by Inverse Kinematics with guess:  [0, 0, 0]\n",
      "{'theta1': np.float64(-34.85445556610464), 'theta2': np.float64(52.590255497099925), 'theta3': np.float64(28.305817574842884), 'error': np.float64(7.429178784360947e-12), 'converged': np.True_}\n",
      "target (280, -195, 15)\n",
      "Joint Values Obtained by Inverse Kinematics with guess:  [0, 45, 45]\n",
      "{'theta1': np.float64(-34.85445556610623), 'theta2': np.float64(52.59025549713356), 'theta3': np.float64(28.30581757485839), 'error': np.float64(1.1598559837989395e-10), 'converged': np.True_}\n",
      "target (280, -195, 15)\n",
      "Joint Values Obtained by Inverse Kinematics with guess:  [90, 90, 90]\n",
      "{'theta1': np.float64(-34.854455566230435), 'theta2': np.float64(118.30581757557172), 'theta3': np.float64(322.5902554966421), 'error': np.float64(1.9387285935720357e-09), 'converged': np.True_}\n",
      "Joint Values Obtained by Moving the Robot to the desired Location\n",
      "___________________________________________\n",
      "Joints(j1=-34.854454040527344, j2=53.09054183959961, j3=30.33359718322754, j4=34.854454040527344)\n",
      "target (300, 50, 100)\n",
      "Joint Values Obtained by Inverse Kinematics with guess:  [-45, -45, -45]\n",
      "{'theta1': np.float64(9.462322208325824), 'theta2': np.float64(26.53340583322144), 'theta3': np.float64(11.225683575248928), 'error': np.float64(1.8852934852300682e-09), 'converged': np.True_}\n",
      "target (300, 50, 100)\n",
      "Joint Values Obtained by Inverse Kinematics with guess:  [0, 0, 0]\n",
      "{'theta1': np.float64(9.462322208043522), 'theta2': np.float64(26.533405833422226), 'theta3': np.float64(11.22568357487989), 'error': np.float64(1.0433011814979807e-10), 'converged': np.True_}\n",
      "target (300, 50, 100)\n",
      "Joint Values Obtained by Inverse Kinematics with guess:  [0, 45, 45]\n",
      "{'theta1': np.float64(9.462322208024565), 'theta2': np.float64(26.53340583336652), 'theta3': np.float64(11.225683574870096), 'error': np.float64(1.42599211094048e-10), 'converged': np.True_}\n",
      "target (300, 50, 100)\n",
      "Joint Values Obtained by Inverse Kinematics with guess:  [90, 90, 90]\n",
      "{'theta1': np.float64(9.462322207903213), 'theta2': np.float64(101.22568357482805), 'theta3': np.float64(296.53340583410426), 'error': np.float64(1.8789717849044575e-09), 'converged': np.True_}\n",
      "Joint Values Obtained by Moving the Robot to the desired Location\n",
      "___________________________________________\n",
      "Joints(j1=9.462322235107422, j2=26.399791717529297, j3=13.405426979064941, j4=-9.462322235107422)\n"
     ]
    }
   ],
   "source": [
    "targets = [(35, 270, -33),(280,-195,15),(300,50,100)]\n",
    "\n",
    "initial_guess = [[-45, -45, -45], [0, 0 , 0] ,[0, 45, 45], [90, 90, 90]]\n",
    "\n",
    "for target in targets:\n",
    "    for guess in initial_guess:\n",
    "        solution = inverse_kinematics_numerical(*target, 0, guess);\n",
    "        print(\"target\", target)\n",
    "        print(\"Joint Values Obtained by Inverse Kinematics with guess: \", guess)\n",
    "        print(solution)\n",
    "\n",
    "    device.move_to(*target, r=0,mode = MODE_PTP.MOVJ_XYZ )\n",
    "    time.sleep(2)\n",
    "    print(\"Joint Values Obtained by Moving the Robot to the desired Location\")\n",
    "    print(\"___________________________________________\")\n",
    "    print(device.get_pose().joints)\n",
    "    time.sleep(10)\n"
   ]
  },
  {
   "cell_type": "code",
   "execution_count": null,
   "id": "f65e651f",
   "metadata": {},
   "outputs": [],
   "source": []
  }
 ],
 "metadata": {
  "kernelspec": {
   "display_name": ".venv",
   "language": "python",
   "name": "python3"
  },
  "language_info": {
   "codemirror_mode": {
    "name": "ipython",
    "version": 3
   },
   "file_extension": ".py",
   "mimetype": "text/x-python",
   "name": "python",
   "nbconvert_exporter": "python",
   "pygments_lexer": "ipython3",
   "version": "3.13.7"
  }
 },
 "nbformat": 4,
 "nbformat_minor": 5
}
