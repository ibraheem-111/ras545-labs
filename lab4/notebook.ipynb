{
 "cells": [
  {
   "cell_type": "code",
   "execution_count": 9,
   "id": "1c7f06a3",
   "metadata": {},
   "outputs": [],
   "source": [
    "from kinematics import forward_kinematics, apply_transform\n",
    "import pydobot\n",
    "from pydobot.dobot import MODE_PTP"
   ]
  },
  {
   "cell_type": "code",
   "execution_count": 10,
   "id": "11d7e9b2",
   "metadata": {},
   "outputs": [
    {
     "name": "stdout",
     "output_type": "stream",
     "text": [
      "[[ 1.000000e+00  0.000000e+00  0.000000e+00  1.250000e+01]\n",
      " [ 0.000000e+00  6.123234e-17 -1.000000e+00 -1.500000e+02]\n",
      " [ 0.000000e+00  1.000000e+00  6.123234e-17  1.072000e+02]\n",
      " [ 0.000000e+00  0.000000e+00  0.000000e+00  1.000000e+00]]\n"
     ]
    }
   ],
   "source": [
    "transform = forward_kinematics(0,0,0)\n",
    "print(transform)"
   ]
  },
  {
   "cell_type": "code",
   "execution_count": 11,
   "id": "69ee8770",
   "metadata": {},
   "outputs": [
    {
     "name": "stdout",
     "output_type": "stream",
     "text": [
      "[  12.5 -150.   107.2    1. ]\n"
     ]
    }
   ],
   "source": [
    "end_effector_position = apply_transform(transform, (0, 0, 0))\n",
    "print(end_effector_position)"
   ]
  },
  {
   "cell_type": "code",
   "execution_count": null,
   "id": "e1858fb7",
   "metadata": {},
   "outputs": [],
   "source": []
  }
 ],
 "metadata": {
  "kernelspec": {
   "display_name": ".venv",
   "language": "python",
   "name": "python3"
  },
  "language_info": {
   "codemirror_mode": {
    "name": "ipython",
    "version": 3
   },
   "file_extension": ".py",
   "mimetype": "text/x-python",
   "name": "python",
   "nbconvert_exporter": "python",
   "pygments_lexer": "ipython3",
   "version": "3.13.7"
  }
 },
 "nbformat": 4,
 "nbformat_minor": 5
}
