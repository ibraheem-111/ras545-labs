{
 "cells": [
  {
   "cell_type": "code",
   "execution_count": 1,
   "id": "1c7f06a3",
   "metadata": {},
   "outputs": [],
   "source": [
    "from kinematics import forward_kinematics, apply_transform\n",
    "import pydobot\n",
    "from pydobot.dobot import MODE_PTP"
   ]
  },
  {
   "cell_type": "code",
   "execution_count": 2,
   "id": "11d7e9b2",
   "metadata": {},
   "outputs": [
    {
     "name": "stdout",
     "output_type": "stream",
     "text": [
      "[[  1.    0.    0.  377.5]\n",
      " [  0.    1.    0.   41. ]\n",
      " [  0.    0.    1.  107.2]\n",
      " [  0.    0.    0.    1. ]]\n"
     ]
    }
   ],
   "source": [
    "transform = forward_kinematics(0,0,0,0)\n",
    "print(transform)"
   ]
  },
  {
   "cell_type": "code",
   "execution_count": 3,
   "id": "69ee8770",
   "metadata": {},
   "outputs": [
    {
     "name": "stdout",
     "output_type": "stream",
     "text": [
      "[ 227.5 -150.   107.2    1. ]\n"
     ]
    }
   ],
   "source": [
    "end_effector_position = apply_transform(transform, (0, 0, 0))\n",
    "print(end_effector_position)"
   ]
  },
  {
   "cell_type": "code",
   "execution_count": 5,
   "id": "683fad74",
   "metadata": {},
   "outputs": [
    {
     "ename": "NameError",
     "evalue": "name 'end_effector_position' is not defined",
     "output_type": "error",
     "traceback": [
      "\u001b[31m---------------------------------------------------------------------------\u001b[39m",
      "\u001b[31mNameError\u001b[39m                                 Traceback (most recent call last)",
      "\u001b[36mCell\u001b[39m\u001b[36m \u001b[39m\u001b[32mIn[5]\u001b[39m\u001b[32m, line 1\u001b[39m\n\u001b[32m----> \u001b[39m\u001b[32m1\u001b[39m \u001b[43mend_effector_position\u001b[49m[\u001b[32m0\u001b[39m]\n",
      "\u001b[31mNameError\u001b[39m: name 'end_effector_position' is not defined"
     ]
    }
   ],
   "source": [
    "end_effector_position[0]"
   ]
  },
  {
   "cell_type": "code",
   "execution_count": 6,
   "id": "fbf559b7",
   "metadata": {},
   "outputs": [
    {
     "name": "stderr",
     "output_type": "stream",
     "text": [
      "Clearing alarms: 18.\n"
     ]
    }
   ],
   "source": [
    "device = pydobot.Dobot(port=\"/dev/ttyACM0\")\n"
   ]
  },
  {
   "cell_type": "code",
   "execution_count": 3,
   "id": "561bc9a7",
   "metadata": {},
   "outputs": [
    {
     "ename": "NameError",
     "evalue": "name 'device' is not defined",
     "output_type": "error",
     "traceback": [
      "\u001b[31m---------------------------------------------------------------------------\u001b[39m",
      "\u001b[31mNameError\u001b[39m                                 Traceback (most recent call last)",
      "\u001b[36mCell\u001b[39m\u001b[36m \u001b[39m\u001b[32mIn[3]\u001b[39m\u001b[32m, line 1\u001b[39m\n\u001b[32m----> \u001b[39m\u001b[32m1\u001b[39m \u001b[43mdevice\u001b[49m.home()\n",
      "\u001b[31mNameError\u001b[39m: name 'device' is not defined"
     ]
    }
   ],
   "source": [
    "device.home()"
   ]
  },
  {
   "cell_type": "code",
   "execution_count": 7,
   "id": "fbb79a03",
   "metadata": {},
   "outputs": [
    {
     "data": {
      "text/plain": [
       "Pose(position=Position(x=240.97479248046875, y=0.0, z=1.1175870895385742e-06, r=30.0), joints=Joints(j1=0.0, j2=30.464080810546875, j3=60.94282913208008, j4=30.0))"
      ]
     },
     "execution_count": 7,
     "metadata": {},
     "output_type": "execute_result"
    }
   ],
   "source": [
    "device.move_to(x=240.97476196289062, y=0.0, z=0, r=1.0, mode=MODE_PTP.MOVJ_XYZ)\n",
    "device.get_pose()"
   ]
  },
  {
   "cell_type": "code",
   "execution_count": 12,
   "id": "9da81ed7",
   "metadata": {},
   "outputs": [
    {
     "data": {
      "text/plain": [
       "Pose(position=Position(x=240.97476196289062, y=0.0, z=150.0732879638672, r=0.0), joints=Joints(j1=0.0, j2=0.0, j3=0.0, j4=0.0))"
      ]
     },
     "execution_count": 12,
     "metadata": {},
     "output_type": "execute_result"
    }
   ],
   "source": [
    "device.get_pose()"
   ]
  },
  {
   "cell_type": "code",
   "execution_count": null,
   "id": "e1858fb7",
   "metadata": {},
   "outputs": [
    {
     "name": "stderr",
     "output_type": "stream",
     "text": [
      "Clearing alarms: 18.\n"
     ]
    },
    {
     "data": {
      "text/plain": [
       "459"
      ]
     },
     "execution_count": 24,
     "metadata": {},
     "output_type": "execute_result"
    }
   ],
   "source": [
    "device.move_to(x=end_effector_position[0].item(), y=end_effector_position[1].item(), z=end_effector_position[2].item(), mode=MODE_PTP.MOVJ_XYZ)"
   ]
  },
  {
   "cell_type": "code",
   "execution_count": null,
   "id": "faf79821",
   "metadata": {},
   "outputs": [],
   "source": []
  }
 ],
 "metadata": {
  "kernelspec": {
   "display_name": ".venv",
   "language": "python",
   "name": "python3"
  },
  "language_info": {
   "codemirror_mode": {
    "name": "ipython",
    "version": 3
   },
   "file_extension": ".py",
   "mimetype": "text/x-python",
   "name": "python",
   "nbconvert_exporter": "python",
   "pygments_lexer": "ipython3",
   "version": "3.13.7"
  }
 },
 "nbformat": 4,
 "nbformat_minor": 5
}
