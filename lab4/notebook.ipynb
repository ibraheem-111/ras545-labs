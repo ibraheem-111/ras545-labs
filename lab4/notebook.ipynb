{
 "cells": [
  {
   "cell_type": "code",
   "execution_count": 1,
   "id": "1c7f06a3",
   "metadata": {},
   "outputs": [],
   "source": [
    "from kinematics import forward_kinematics_sympy, inverse_kinematics_simple, print_symbolic_equations\n",
    "import pydobot\n",
    "from pydobot.dobot import MODE_PTP"
   ]
  },
  {
   "cell_type": "code",
   "execution_count": 2,
   "id": "8300b2db",
   "metadata": {},
   "outputs": [
    {
     "name": "stdout",
     "output_type": "stream",
     "text": [
      "\n",
      "T01 (Base to Joint 1):\n",
      "Matrix([[cos(theta1), 0, -sin(theta1), 0], [sin(theta1), 0, cos(theta1), 0], [0, -1, 0, 53.5000000000000], [0, 0, 0, 1]])\n",
      "\n",
      "T12 (Joint 1 to Joint 2):\n",
      "Matrix([[-sin(theta2), -cos(theta2), 0, 150*sin(theta2) + 90], [cos(theta2), -sin(theta2), 0, -150*cos(theta2)], [0, 0, 1, 0], [0, 0, 0, 1]])\n",
      "\n",
      "T23 (Joint 2 to Joint 3):\n",
      "Matrix([[cos(theta2 - theta3), sin(theta2 - theta3), 0, -150*sin(theta2 - theta3)], [-sin(theta2 - theta3), cos(theta2 - theta3), 0, -150*cos(theta2 - theta3)], [0, 0, 1, 0], [0, 0, 0, 1]])\n",
      "\n",
      "==================================================\n",
      "FORWARD KINEMATICS EQUATIONS\n",
      "==================================================\n",
      "\n",
      "T03 = T01 * T12 * T23:\n",
      "T03 (before simplification):\n",
      "Matrix([[-sin(theta2)*cos(theta1)*cos(theta2 - theta3) + sin(theta2 - theta3)*cos(theta1)*cos(theta2), -sin(theta2)*sin(theta2 - theta3)*cos(theta1) - cos(theta1)*cos(theta2)*cos(theta2 - theta3), -sin(theta1), (150*sin(theta2) + 90)*cos(theta1) + 150*sin(theta2)*sin(theta2 - theta3)*cos(theta1) + 150*cos(theta1)*cos(theta2)*cos(theta2 - theta3)], [-sin(theta1)*sin(theta2)*cos(theta2 - theta3) + sin(theta1)*sin(theta2 - theta3)*cos(theta2), -sin(theta1)*sin(theta2)*sin(theta2 - theta3) - sin(theta1)*cos(theta2)*cos(theta2 - theta3), cos(theta1), (150*sin(theta2) + 90)*sin(theta1) + 150*sin(theta1)*sin(theta2)*sin(theta2 - theta3) + 150*sin(theta1)*cos(theta2)*cos(theta2 - theta3)], [-sin(theta2)*sin(theta2 - theta3) - cos(theta2)*cos(theta2 - theta3), sin(theta2)*cos(theta2 - theta3) - sin(theta2 - theta3)*cos(theta2), 0, -150*sin(theta2)*cos(theta2 - theta3) + 150*sin(theta2 - theta3)*cos(theta2) + 150*cos(theta2) + 53.5], [0, 0, 0, 1]])\n",
      "\n",
      "T03 (after simplification):\n",
      "Matrix([[-sin(theta3)*cos(theta1), -cos(theta1)*cos(theta3), -sin(theta1), 30*(5*sin(theta2) + 5*cos(theta3) + 3)*cos(theta1)], [-sin(theta1)*sin(theta3), -sin(theta1)*cos(theta3), cos(theta1), 30*(5*sin(theta2) + 5*cos(theta3) + 3)*sin(theta1)], [-cos(theta3), sin(theta3), 0, -150.0*sin(theta3) + 150.0*cos(theta2) + 53.5], [0, 0, 0, 1]])\n",
      "\n",
      "==================================================\n",
      "POSITION EQUATIONS\n",
      "==================================================\n",
      "\n",
      "End-effector position:\n",
      "P_x = 30*(5*sin(theta2) + 5*cos(theta3) + 3)*cos(theta1)\n",
      "P_y = 30*(5*sin(theta2) + 5*cos(theta3) + 3)*sin(theta1)\n",
      "P_z = -150.0*sin(theta3) + 150.0*cos(theta2) + 53.5\n",
      "\n",
      "Orientation matrix:\n",
      "Matrix([[-sin(theta3)*cos(theta1), -cos(theta1)*cos(theta3), -sin(theta1)], [-sin(theta1)*sin(theta3), -sin(theta1)*cos(theta3), cos(theta1)], [-cos(theta3), sin(theta3), 0]])\n",
      "\n",
      "==================================================\n",
      "SUMMARY\n",
      "==================================================\n",
      "\n",
      "Forward kinematics equations:\n",
      "P_x = 30*(5*sin(theta2) + 5*cos(theta3) + 3)*cos(theta1)\n",
      "P_y = 30*(5*sin(theta2) + 5*cos(theta3) + 3)*sin(theta1)\n",
      "P_z = -150.0*sin(theta3) + 150.0*cos(theta2) + 53.5\n",
      "\n",
      "Adjusted end-effector position (with offset [0, 0, -58.5]):\n",
      "P_adj_x = 30*(5*sin(theta2) + 5*cos(theta3) + 3)*cos(theta1)\n",
      "P_adj_y = 30*(5*sin(theta2) + 5*cos(theta3) + 3)*sin(theta1)\n",
      "P_adj_z = -150.0*sin(theta3) + 150.0*cos(theta2)\n"
     ]
    },
    {
     "data": {
      "text/plain": [
       "{'T03': Matrix([\n",
       " [-sin(theta3)*cos(theta1), -cos(theta1)*cos(theta3), -sin(theta1), 30*(5*sin(theta2) + 5*cos(theta3) + 3)*cos(theta1)],\n",
       " [-sin(theta1)*sin(theta3), -sin(theta1)*cos(theta3),  cos(theta1), 30*(5*sin(theta2) + 5*cos(theta3) + 3)*sin(theta1)],\n",
       " [            -cos(theta3),              sin(theta3),            0,      -150.0*sin(theta3) + 150.0*cos(theta2) + 53.5],\n",
       " [                       0,                        0,            0,                                                  1]]),\n",
       " 'position': Matrix([\n",
       " [30*(5*sin(theta2) + 5*cos(theta3) + 3)*cos(theta1)],\n",
       " [30*(5*sin(theta2) + 5*cos(theta3) + 3)*sin(theta1)],\n",
       " [     -150.0*sin(theta3) + 150.0*cos(theta2) + 53.5]]),\n",
       " 'adjusted_position': Matrix([\n",
       " [30*(5*sin(theta2) + 5*cos(theta3) + 3)*cos(theta1)],\n",
       " [30*(5*sin(theta2) + 5*cos(theta3) + 3)*sin(theta1)],\n",
       " [            -150.0*sin(theta3) + 150.0*cos(theta2)]]),\n",
       " 'orientation': Matrix([\n",
       " [-sin(theta3)*cos(theta1), -cos(theta1)*cos(theta3), -sin(theta1)],\n",
       " [-sin(theta1)*sin(theta3), -sin(theta1)*cos(theta3),  cos(theta1)],\n",
       " [            -cos(theta3),              sin(theta3),            0]])}"
      ]
     },
     "execution_count": 2,
     "metadata": {},
     "output_type": "execute_result"
    }
   ],
   "source": [
    "print_symbolic_equations()"
   ]
  },
  {
   "cell_type": "code",
   "execution_count": 3,
   "id": "fbf559b7",
   "metadata": {},
   "outputs": [],
   "source": [
    "device = pydobot.Dobot(port=\"/dev/ttyACM0\")\n"
   ]
  },
  {
   "cell_type": "code",
   "execution_count": 4,
   "id": "561bc9a7",
   "metadata": {},
   "outputs": [
    {
     "data": {
      "text/plain": [
       "6074"
      ]
     },
     "execution_count": 4,
     "metadata": {},
     "output_type": "execute_result"
    }
   ],
   "source": [
    "device.home()"
   ]
  },
  {
   "cell_type": "code",
   "execution_count": 5,
   "id": "11d7e9b2",
   "metadata": {},
   "outputs": [
    {
     "name": "stdout",
     "output_type": "stream",
     "text": [
      "Matrix([[240], [0], [150.000000000000]])\n"
     ]
    }
   ],
   "source": [
    "transform = forward_kinematics_sympy(0,0,0)\n",
    "print(transform[\"adjusted_position\"])\n"
   ]
  },
  {
   "cell_type": "code",
   "execution_count": 6,
   "id": "683fad74",
   "metadata": {},
   "outputs": [
    {
     "name": "stdout",
     "output_type": "stream",
     "text": [
      "Matrix([[0], [271.206832066516], [65.9538931178863]])\n"
     ]
    }
   ],
   "source": [
    "transform = forward_kinematics_sympy(90, 20, 30)\n",
    "print(transform[\"adjusted_position\"].evalf())"
   ]
  },
  {
   "cell_type": "code",
   "execution_count": 7,
   "id": "fe6e63f3",
   "metadata": {},
   "outputs": [],
   "source": [
    "import time"
   ]
  },
  {
   "cell_type": "markdown",
   "id": "1114e452",
   "metadata": {},
   "source": [
    "# Calculate forward kinematics for following theta values:\n",
    "- Theta(1 to 4) = [-2, 25, 23, 45]\n",
    "- Theta(1 to 4) = [31,52,42,0]\n",
    "- Theta(1 to 4) = [27,52,24,0]\n"
   ]
  },
  {
   "cell_type": "code",
   "execution_count": null,
   "id": "e1858fb7",
   "metadata": {},
   "outputs": [
    {
     "name": "stdout",
     "output_type": "stream",
     "text": [
      "Matrix([[291.290912563919], [-10.1721028126855], [77.3364987821064]])\n",
      "R:  43\n"
     ]
    },
    {
     "data": {
      "text/plain": [
       "Pose(position=Position(x=272.11602783203125, y=-5.0569682121276855, z=114.72817993164062, r=22.89007568359375), joints=Joints(j1=-1.1444206237792969, j2=14.305257797241211, j3=13.160836219787598, j4=25.74946403503418))"
      ]
     },
     "execution_count": 8,
     "metadata": {},
     "output_type": "execute_result"
    }
   ],
   "source": [
    "\n",
    "target = (-2, 25, 23, 45)\n",
    "transform = forward_kinematics_sympy(*target)\n",
    "print(transform[\"adjusted_position\"].evalf())\n",
    "print(\"R: \", transform[\"r\"])\n",
    "device.move_to(*target,mode= MODE_PTP.MOVJ_ANGLE)\n",
    "time.sleep(1)\n",
    "device.get_pose()\n"
   ]
  },
  {
   "cell_type": "code",
   "execution_count": 10,
   "id": "faf79821",
   "metadata": {},
   "outputs": [
    {
     "name": "stdout",
     "output_type": "stream",
     "text": [
      "Matrix([[274.013531264967], [164.643940017796], [-8.02036965497999]])\n",
      "R:  31\n"
     ]
    },
    {
     "data": {
      "text/plain": [
       "Pose(position=Position(x=275.3700866699219, y=165.4590606689453, z=-6.246221542358398, r=31.0), joints=Joints(j1=31.0, j2=52.0, j3=42.0, j4=4.656612873077393e-10))"
      ]
     },
     "execution_count": 10,
     "metadata": {},
     "output_type": "execute_result"
    }
   ],
   "source": [
    "target = (31,52,42,0)\n",
    "transform = forward_kinematics_sympy(*target)\n",
    "print(transform[\"adjusted_position\"].evalf())\n",
    "print(\"R: \", transform[\"r\"])\n",
    "device.move_to(*target,mode= MODE_PTP.MOVJ_ANGLE)\n",
    "time.sleep(1)\n",
    "device.get_pose()"
   ]
  },
  {
   "cell_type": "code",
   "execution_count": 11,
   "id": "d281fd22",
   "metadata": {},
   "outputs": [
    {
     "name": "stdout",
     "output_type": "stream",
     "text": [
      "Matrix([[307.605240001411], [156.732698178561], [31.3387248374787]])\n",
      "R:  27\n"
     ]
    },
    {
     "data": {
      "text/plain": [
       "Pose(position=Position(x=308.7078552246094, y=157.29454040527344, z=32.57661819458008, r=27.0), joints=Joints(j1=27.0, j2=52.0, j3=24.0, j4=4.656612873077393e-10))"
      ]
     },
     "execution_count": 11,
     "metadata": {},
     "output_type": "execute_result"
    }
   ],
   "source": [
    "target = (27, 52, 24, 0)\n",
    "transform = forward_kinematics_sympy(*target)\n",
    "print(transform[\"adjusted_position\"].evalf())\n",
    "print(\"R: \", transform[\"r\"])\n",
    "device.move_to(*target,mode= MODE_PTP.MOVJ_ANGLE)\n",
    "time.sleep(1)\n",
    "device.get_pose()"
   ]
  },
  {
   "cell_type": "markdown",
   "id": "988167d6",
   "metadata": {},
   "source": [
    "# Inverse Kinematics"
   ]
  },
  {
   "cell_type": "code",
   "execution_count": null,
   "id": "374c6c3b",
   "metadata": {},
   "outputs": [],
   "source": []
  }
 ],
 "metadata": {
  "kernelspec": {
   "display_name": ".venv",
   "language": "python",
   "name": "python3"
  },
  "language_info": {
   "codemirror_mode": {
    "name": "ipython",
    "version": 3
   },
   "file_extension": ".py",
   "mimetype": "text/x-python",
   "name": "python",
   "nbconvert_exporter": "python",
   "pygments_lexer": "ipython3",
   "version": "3.13.7"
  }
 },
 "nbformat": 4,
 "nbformat_minor": 5
}
